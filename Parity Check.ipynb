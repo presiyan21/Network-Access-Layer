{
 "cells": [
  {
   "cell_type": "code",
   "execution_count": 95,
   "metadata": {},
   "outputs": [
    {
     "name": "stdout",
     "output_type": "stream",
     "text": [
      "Original Data: [1, 0, 1, 0, 1, 1, 0, 0]\n",
      "Transmitted Data (with Parity): [1, 0, 1, 0, 1, 1, 0, 0, 0]\n",
      "Corrupted Data: [0, 0, 0, 0, 1, 0, 1, 1, 0]\n",
      "Parity Check Passed: False\n",
      "\n",
      "Original Data Matrix: [[1, 0, 1], [0, 1, 1], [1, 1, 0]]\n",
      "Row Parity: [0, 0, 0]\n",
      "Column Parity: [0, 0, 0]\n",
      "\n",
      "Data with an Error Introduced at index 3 : [1, 0, 1, 1, 1, 1, 0, 0, 0]\n",
      "\n",
      "Error detected (Parity Check Failed)\n"
     ]
    }
   ],
   "source": [
    "import random\n",
    "\n",
    "# Function to compute even parity bit\n",
    "def compute_even_parity(data):\n",
    "    return sum(data) % 2\n",
    "\n",
    "# Appends an even parity bit to the data\n",
    "def add_parity_bit(data):\n",
    "    parity_bit = compute_even_parity(data)\n",
    "    return data + [parity_bit]\n",
    "\n",
    "# Verifies the even parity of received data\n",
    "def verify_parity(received_data):\n",
    "    return compute_even_parity(received_data) == 0\n",
    "\n",
    "# Randomly flips bits in the data to simulate transmission errors\n",
    "def inject_error(data, num_errors=1):\n",
    "    for _ in range(num_errors):\n",
    "        index = random.randint(0, len(data) - 1)\n",
    "        corrupted_data[index] ^= 1  # Flip bit\n",
    "    return corrupted_data\n",
    "\n",
    "# Computes two-dimensional parity for a given data matrix\n",
    "def two_dimensional_parity(data_matrix):\n",
    "    row_parity = [compute_even_parity(row) for row in data_matrix]\n",
    "    col_parity = [compute_even_parity([data_matrix[i][j] for i in range(len(data_matrix))]) for j in range(len(data_matrix[0]))]\n",
    "    return data_matrix, row_parity, col_parity\n",
    "\n",
    "# Example Usage\n",
    "data = [1, 0, 1, 0, 1, 1, 0, 0]\n",
    "data_with_parity = add_parity_bit(data)\n",
    "print(\"Original Data:\", data)\n",
    "print(\"Transmitted Data (with Parity):\", data_with_parity)\n",
    "\n",
    "# Simulate error injection\n",
    "corrupted_data = inject_error(data_with_parity)\n",
    "print(\"Corrupted Data:\", corrupted_data)\n",
    "print(\"Parity Check Passed:\", verify_parity(corrupted_data))\n",
    "\n",
    "# Two-Dimensional Parity Example\n",
    "data_matrix = [[1, 0, 1], [0, 1, 1], [1, 1, 0]]\n",
    "original_matrix, row_parity, col_parity = two_dimensional_parity(data_matrix)\n",
    "print(\"\\nOriginal Data Matrix:\", original_matrix)\n",
    "print(\"Row Parity:\", row_parity)\n",
    "print(\"Column Parity:\", col_parity)\n",
    "\n",
    "# Simulate an error: flip a bit in the transmitted data\n",
    "# For example, flip the bit at index 3 (0-indexed)\n",
    "error_index = 3\n",
    "data_with_error = data_with_parity.copy()\n",
    "data_with_error[error_index] = 1 - data_with_error[error_index]\n",
    "print(\"\\nData with an Error Introduced at index\", error_index, \":\", data_with_error)\n",
    "\n",
    "# At the receiver, perform the parity check.\n",
    "# For even parity, the sum of all bits should be even.\n",
    "if sum(data_with_error) % 2 == 0:\n",
    "    print(\"\\nNo error detected (Parity Check Passed)\")\n",
    "else:\n",
    "    print(\"\\nError detected (Parity Check Failed)\")\n",
    "\n",
    "\n"
   ]
  }
 ],
 "metadata": {
  "kernelspec": {
   "display_name": "base",
   "language": "python",
   "name": "python3"
  },
  "language_info": {
   "codemirror_mode": {
    "name": "ipython",
    "version": 3
   },
   "file_extension": ".py",
   "mimetype": "text/x-python",
   "name": "python",
   "nbconvert_exporter": "python",
   "pygments_lexer": "ipython3",
   "version": "3.12.4"
  }
 },
 "nbformat": 4,
 "nbformat_minor": 2
}
